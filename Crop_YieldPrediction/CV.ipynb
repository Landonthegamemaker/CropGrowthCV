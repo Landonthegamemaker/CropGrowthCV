{
 "cells": [
  {
   "cell_type": "code",
   "execution_count": 1,
   "metadata": {},
   "outputs": [],
   "source": [
    "import pandas as pd\n",
    "import numpy as np\n",
    "\n",
    "from util import CombinedPreprocessor\n",
    "from cross_validation import RandomCV, GroupKFoldCV, SpatialPlusCV\n",
    "from sklearn.ensemble import RandomForestRegressor\n",
    "from sklearn.linear_model import LinearRegression\n",
    "\n",
    "from sklearn.model_selection import GridSearchCV"
   ]
  },
  {
   "cell_type": "markdown",
   "metadata": {},
   "source": [
    "### 6/18/2020, 6/16/2021, 6/15/2022"
   ]
  },
  {
   "cell_type": "code",
   "execution_count": 2,
   "metadata": {},
   "outputs": [
    {
     "name": "stdout",
     "output_type": "stream",
     "text": [
      "+-----------------+---------------------+---------------------+\n",
      "|     Random CV   |       RMSE_AVG      |        R2_AVG       |\n",
      "+-----------------+---------------------+---------------------+\n",
      "| LR CV Predicted | 0.04940520775923781 |  0.9240810332670986 |\n",
      "|     LR Test     | 0.16067952817116346 | 0.23160052195703396 |\n",
      "| RF CV Predicted | 0.03743845447724569 |  0.9562921369126892 |\n",
      "|     RF Test     | 0.15412481077557874 | 0.29301356921650845 |\n",
      "+-----------------+---------------------+---------------------+\n",
      "+-----------------+----------------------+---------------------+\n",
      "|   GroupKFold CV |       RMSE_AVG       |        R2_AVG       |\n",
      "+-----------------+----------------------+---------------------+\n",
      "| LR CV Predicted | 0.07306249534749319  |  0.3948480350051345 |\n",
      "|     LR Test     | 0.16067952817116346  | 0.23160052195703396 |\n",
      "| RF CV Predicted | 0.052260898413444196 |  0.8047977164480936 |\n",
      "|     RF Test     |  0.1541248107755787  | 0.29301356921650845 |\n",
      "+-----------------+----------------------+---------------------+\n"
     ]
    }
   ],
   "source": [
    "indices_6182020 = pd.read_csv(\"../Datasets/Crop_Yield/Indices_Combined/2020/June_18_2020_New.csv\")\n",
    "indices_6162021 = pd.read_csv(\"../Datasets/Crop_Yield/Indices_Combined/2021/June_16_2021.csv\")\n",
    "indices_6152022 = pd.read_csv(\"../Datasets/Crop_Yield/Indices_Combined/2022/June_15_2022.csv\")\n",
    "processor = CombinedPreprocessor()\n",
    "\n",
    "X_train, X_test, y_train, y_test = processor.transform(indices_6162021, indices_6152022, indices_6182020)\n",
    "\n",
    "random_validator = RandomCV(models={'LR': LinearRegression(n_jobs=-1), 'RF': RandomForestRegressor(n_jobs=-1, random_state=41)})\n",
    "gkf_validator = GroupKFoldCV(models={'LR': LinearRegression(n_jobs=-1), 'RF': RandomForestRegressor(n_jobs=-1, random_state=41)})\n",
    "\n",
    "random_validator.results(X_train, X_test, y_train, y_test)\n",
    "gkf_validator.results(X_train, X_test, y_train, y_test)"
   ]
  },
  {
   "cell_type": "markdown",
   "metadata": {},
   "source": [
    "### 6/23/2020, 6/22/2021, 6/23/2022"
   ]
  },
  {
   "cell_type": "code",
   "execution_count": 3,
   "metadata": {},
   "outputs": [
    {
     "name": "stdout",
     "output_type": "stream",
     "text": [
      "+-----------------+---------------------+----------------------+\n",
      "|     Random CV   |       RMSE_AVG      |        R2_AVG        |\n",
      "+-----------------+---------------------+----------------------+\n",
      "| LR CV Predicted | 0.04986251605278534 |  0.9226424689585976  |\n",
      "|     LR Test     |  0.1223180728087902 |  0.5547056082681129  |\n",
      "| RF CV Predicted | 0.03827614696624009 |  0.9542127687238174  |\n",
      "|     RF Test     | 0.18658273543238524 | -0.03611718588588886 |\n",
      "+-----------------+---------------------+----------------------+\n",
      "+-----------------+---------------------+---------------------+\n",
      "|   GroupKFold CV |       RMSE_AVG      |        R2_AVG       |\n",
      "+-----------------+---------------------+---------------------+\n",
      "| LR CV Predicted |  0.0955478208942627 | -0.7493929793572522 |\n",
      "|     LR Test     |  0.1223180728087902 |  0.5547056082681129 |\n",
      "| RF CV Predicted | 0.06630454525176592 |  0.7675631869216328 |\n",
      "|     RF Test     | 0.18658273543238524 | -0.0361171858858893 |\n",
      "+-----------------+---------------------+---------------------+\n"
     ]
    }
   ],
   "source": [
    "indices_6232020 = pd.read_csv(\"../Datasets/Crop_Yield/Indices_Combined/2020/June_23_2020_New.csv\")\n",
    "indices_6222021 = pd.read_csv(\"../Datasets/Crop_Yield/Indices_Combined/2021/June_22_2021.csv\")\n",
    "indices_6232022 = pd.read_csv(\"../Datasets/Crop_Yield/Indices_Combined/2022/June_23_2022.csv\")\n",
    "\n",
    "processor2 = CombinedPreprocessor()\n",
    "\n",
    "X_train2, X_test2, y_train2, y_test2 = processor2.transform(indices_6222021, indices_6232022, indices_6232020)\n",
    "\n",
    "random_validator2 = RandomCV(models={'LR': LinearRegression(n_jobs=-1), 'RF': RandomForestRegressor(n_jobs=-1, random_state=41)})\n",
    "gkf_validator2 = GroupKFoldCV(models={'LR': LinearRegression(n_jobs=-1), 'RF': RandomForestRegressor(n_jobs=-1, random_state=41)})\n",
    "\n",
    "random_validator2.results(X_train2, X_test2, y_train2, y_test2)\n",
    "gkf_validator2.results(X_train2, X_test2, y_train2, y_test2)"
   ]
  },
  {
   "cell_type": "markdown",
   "metadata": {},
   "source": [
    "### 6/30/2020, 6/30/2021, 6/28/2022"
   ]
  },
  {
   "cell_type": "code",
   "execution_count": 4,
   "metadata": {},
   "outputs": [
    {
     "name": "stdout",
     "output_type": "stream",
     "text": [
      "+-----------------+---------------------+---------------------+\n",
      "|     Random CV   |       RMSE_AVG      |        R2_AVG       |\n",
      "+-----------------+---------------------+---------------------+\n",
      "| LR CV Predicted | 0.05131233615997181 |  0.9181083318243839 |\n",
      "|     LR Test     | 0.11345348056217205 |  0.6169092962417637 |\n",
      "| RF CV Predicted | 0.03816569603249538 |  0.9545742144572322 |\n",
      "|     RF Test     | 0.13878527511399522 | 0.42673853801208805 |\n",
      "+-----------------+---------------------+---------------------+\n",
      "+-----------------+---------------------+--------------------+\n",
      "|   GroupKFold CV |       RMSE_AVG      |       R2_AVG       |\n",
      "+-----------------+---------------------+--------------------+\n",
      "| LR CV Predicted | 0.10826996332180994 | -2.32871395399151  |\n",
      "|     LR Test     | 0.11345348056217205 | 0.6169092962417637 |\n",
      "| RF CV Predicted | 0.05188141176706019 | 0.8032991581982384 |\n",
      "|     RF Test     | 0.13684665464058968 | 0.4426418759013948 |\n",
      "+-----------------+---------------------+--------------------+\n"
     ]
    }
   ],
   "source": [
    "indices_6302020 = pd.read_csv(\"../Datasets/Crop_Yield/Indices_Combined/2020/June_30_2020_New.csv\")\n",
    "indices_6302021 = pd.read_csv(\"../Datasets/Crop_Yield/Indices_Combined/2021/June_30_2021.csv\")\n",
    "indices_6282022 = pd.read_csv(\"../Datasets/Crop_Yield/Indices_Combined/2022/June_28_2022.csv\")\n",
    "\n",
    "processor3 = CombinedPreprocessor()\n",
    "\n",
    "X_train3, X_test3, y_train3, y_test3 = processor3.transform(indices_6302021, indices_6282022, indices_6302020)\n",
    "\n",
    "random_validator3 = RandomCV(models={'LR': LinearRegression(n_jobs=-1), 'RF': RandomForestRegressor(n_jobs=-1)})\n",
    "gkf_validator3 = GroupKFoldCV(models={'LR': LinearRegression(n_jobs=-1), 'RF': RandomForestRegressor(n_jobs=-1, random_state=41)})\n",
    "\n",
    "random_validator3.results(X_train3, X_test3, y_train3, y_test3)\n",
    "gkf_validator3.results(X_train3, X_test3, y_train3, y_test3)"
   ]
  },
  {
   "cell_type": "code",
   "execution_count": null,
   "metadata": {},
   "outputs": [],
   "source": []
  },
  {
   "cell_type": "code",
   "execution_count": null,
   "metadata": {},
   "outputs": [],
   "source": []
  }
 ],
 "metadata": {
  "kernelspec": {
   "display_name": "REU3.9.6",
   "language": "python",
   "name": "python3"
  },
  "language_info": {
   "codemirror_mode": {
    "name": "ipython",
    "version": 3
   },
   "file_extension": ".py",
   "mimetype": "text/x-python",
   "name": "python",
   "nbconvert_exporter": "python",
   "pygments_lexer": "ipython3",
   "version": "3.9.19"
  }
 },
 "nbformat": 4,
 "nbformat_minor": 2
}
