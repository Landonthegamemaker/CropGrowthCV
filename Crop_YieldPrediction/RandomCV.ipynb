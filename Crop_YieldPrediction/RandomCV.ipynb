{
 "cells": [
  {
   "cell_type": "code",
   "execution_count": 1,
   "metadata": {},
   "outputs": [],
   "source": [
    "import pandas as pd\n",
    "import numpy as np\n",
    "\n",
    "from util import CombinedPreprocessor\n",
    "from cross_validation import RandomCV\n",
    "from sklearn.ensemble import RandomForestRegressor\n",
    "from sklearn.linear_model import LinearRegression"
   ]
  },
  {
   "cell_type": "markdown",
   "metadata": {},
   "source": [
    "### 6/18/2020, 6/16/2021, 6/15/2022"
   ]
  },
  {
   "cell_type": "code",
   "execution_count": 2,
   "metadata": {},
   "outputs": [
    {
     "name": "stdout",
     "output_type": "stream",
     "text": [
      "+-----------------+----------------------+---------------------+\n",
      "|     Random CV   |       RMSE_AVG       |        R2_AVG       |\n",
      "+-----------------+----------------------+---------------------+\n",
      "| LR CV Predicted | 0.04858537637107141  |  0.9473971855491117 |\n",
      "|     LR Test     | 0.30808415790689836  | -16.728353067831357 |\n",
      "| RF CV Predicted | 0.047804073536065285 |  0.9490249383884286 |\n",
      "|     RF Test     | 0.06647190615962253  |  0.2188696437929088 |\n",
      "+-----------------+----------------------+---------------------+\n"
     ]
    }
   ],
   "source": [
    "indices_6182020 = pd.read_csv(\"../Datasets/Crop_Yield/Indices_Combined/2020/June_18_2020_New.csv\")\n",
    "indices_6162021 = pd.read_csv(\"../Datasets/Crop_Yield/Indices_Combined/2021/June_16_2021.csv\")\n",
    "indices_6152022 = pd.read_csv(\"../Datasets/Crop_Yield/Indices_Combined/2022/June_15_2022.csv\")\n",
    "processor = CombinedPreprocessor()\n",
    "\n",
    "X_train, X_test, y_train, y_test = processor.transform(indices_6182020, indices_6162021, indices_6152022)\n",
    "\n",
    "validator = RandomCV(models={'LR': LinearRegression(n_jobs=-1), 'RF': RandomForestRegressor(n_jobs=-1)})\n",
    "\n",
    "\n",
    "validator.results(X_train, X_test, y_train, y_test)"
   ]
  },
  {
   "cell_type": "markdown",
   "metadata": {},
   "source": [
    "### 6/23/2020, 6/22/2021, 6/23/2022"
   ]
  },
  {
   "cell_type": "code",
   "execution_count": 3,
   "metadata": {},
   "outputs": [
    {
     "name": "stdout",
     "output_type": "stream",
     "text": [
      "+-----------------+---------------------+---------------------+\n",
      "|     Random CV   |       RMSE_AVG      |        R2_AVG       |\n",
      "+-----------------+---------------------+---------------------+\n",
      "| LR CV Predicted | 0.04901439583734998 |  0.9464782479047299 |\n",
      "|     LR Test     |  0.0504494014965559 |  0.5511891403356055 |\n",
      "| RF CV Predicted | 0.04747145066191004 |  0.949733274719479  |\n",
      "|     RF Test     | 0.06067042804913151 | 0.34992492991940505 |\n",
      "+-----------------+---------------------+---------------------+\n"
     ]
    }
   ],
   "source": [
    "indices_6232020 = pd.read_csv(\"../Datasets/Crop_Yield/Indices_Combined/2020/June_23_2020_New.csv\")\n",
    "indices_6222021 = pd.read_csv(\"../Datasets/Crop_Yield/Indices_Combined/2021/June_22_2021.csv\")\n",
    "indices_6232022 = pd.read_csv(\"../Datasets/Crop_Yield/Indices_Combined/2022/June_23_2022.csv\")\n",
    "\n",
    "processor2 = CombinedPreprocessor()\n",
    "\n",
    "X_train2, X_test2, y_train2, y_test2 = processor2.transform(indices_6232020, indices_6222021, indices_6232022)\n",
    "\n",
    "validator2 = RandomCV(models={'LR': LinearRegression(n_jobs=-1), 'RF': RandomForestRegressor(n_jobs=-1)})\n",
    "\n",
    "validator2.results(X_train2, X_test2, y_train2, y_test2)"
   ]
  },
  {
   "cell_type": "markdown",
   "metadata": {},
   "source": [
    "### 6/30/2020, 6/30/2021, 6/28/2022"
   ]
  },
  {
   "cell_type": "code",
   "execution_count": 4,
   "metadata": {},
   "outputs": [
    {
     "name": "stdout",
     "output_type": "stream",
     "text": [
      "+-----------------+---------------------+--------------------+\n",
      "|     Random CV   |       RMSE_AVG      |       R2_AVG       |\n",
      "+-----------------+---------------------+--------------------+\n",
      "| LR CV Predicted | 0.04901439583734998 | 0.9464782479047299 |\n",
      "|     LR Test     |  0.0504494014965559 | 0.5511891403356055 |\n",
      "| RF CV Predicted | 0.04763477703749368 | 0.9493740555355018 |\n",
      "|     RF Test     | 0.06038507308546444 | 0.3561348308570428 |\n",
      "+-----------------+---------------------+--------------------+\n"
     ]
    }
   ],
   "source": [
    "indices_6302020 = pd.read_csv(\"../Datasets/Crop_Yield/Indices_Combined/2020/June_30_2020_New.csv\")\n",
    "indices_6302021 = pd.read_csv(\"../Datasets/Crop_Yield/Indices_Combined/2021/June_30_2021.csv\")\n",
    "indices_6282022 = pd.read_csv(\"../Datasets/Crop_Yield/Indices_Combined/2022/June_28_2022.csv\")\n",
    "\n",
    "processor3 = CombinedPreprocessor()\n",
    "\n",
    "X_train3, X_test3, y_train3, y_test3 = processor3.transform(indices_6302020, indices_6302021, indices_6282022)\n",
    "\n",
    "validator3 = RandomCV(models={'LR': LinearRegression(n_jobs=-1), 'RF': RandomForestRegressor(n_jobs=-1)})\n",
    "\n",
    "validator3.results(X_train2, X_test2, y_train2, y_test2)"
   ]
  }
 ],
 "metadata": {
  "kernelspec": {
   "display_name": "REU3.9.6",
   "language": "python",
   "name": "python3"
  },
  "language_info": {
   "codemirror_mode": {
    "name": "ipython",
    "version": 3
   },
   "file_extension": ".py",
   "mimetype": "text/x-python",
   "name": "python",
   "nbconvert_exporter": "python",
   "pygments_lexer": "ipython3",
   "version": "3.9.19"
  }
 },
 "nbformat": 4,
 "nbformat_minor": 2
}
